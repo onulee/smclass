{
 "cells": [
  {
   "cell_type": "markdown",
   "metadata": {},
   "source": [
    "컬럼 2개 구성 - 가중치1, 가중치2\n",
    "\n",
    "- 전체 가중치1 컬럼 (사망+부상)*1.1\n",
    "- 2014년 사망,부상 가중치2 (사망+부상)*1.2\n",
    "- 2015년 사망,부상 가중치2 (사망+부상)*1.5\n",
    "- 2015년 사망,부상 가중치2 (사망+부상)*1.3"
   ]
  },
  {
   "cell_type": "code",
   "execution_count": 6,
   "metadata": {},
   "outputs": [],
   "source": [
    "import pandas as pd\n",
    "df1 = pd.read_csv('2014년졸음운전교통사고.csv',encoding='euc-kr')\n",
    "df2 = pd.read_csv('2015년졸음운전교통사고.csv',encoding='euc-kr')\n",
    "df3 = pd.read_csv('2016년졸음운전교통사고.csv',encoding='euc-kr')"
   ]
  },
  {
   "cell_type": "code",
   "execution_count": 24,
   "metadata": {},
   "outputs": [],
   "source": [
    "## 3개 DataFrame 합치기\n",
    "df = pd.concat([df1,df2,df3])"
   ]
  },
  {
   "cell_type": "code",
   "execution_count": 27,
   "metadata": {},
   "outputs": [],
   "source": [
    "# 가중치1 컬럼을 추가\n",
    "df['가중치1'] = (df['사망(명)']+df['부상(명)'])*1.1\n",
    "\n",
    "# 가중치2 컬럼을 추가\n",
    "df['가중치2'] = 0"
   ]
  },
  {
   "cell_type": "code",
   "execution_count": 39,
   "metadata": {},
   "outputs": [],
   "source": [
    "# 2014에 해당되는 가중치2 계산해서 데이터수정\n",
    "# 조건식 2014년에 해당되는 조건식 구성\n",
    "filt = df['구분'].str.slice(start=0, stop=4)=='2014'\n",
    "filt\n",
    "df.loc[filt,'가중치2'] = (df.loc[filt,'사망(명)']+df.loc[filt,'부상(명)'])*1.2"
   ]
  },
  {
   "cell_type": "code",
   "execution_count": 41,
   "metadata": {},
   "outputs": [],
   "source": [
    "# 2015에 해당되는 가중치2 계산해서 데이터수정\n",
    "# 조건식 2014년에 해당되는 조건식 구성\n",
    "filt = df['구분'].str.slice(start=0, stop=4)=='2015'\n",
    "filt\n",
    "df.loc[filt,'가중치2'] = (df.loc[filt,'사망(명)']+df.loc[filt,'부상(명)'])*1.5"
   ]
  },
  {
   "cell_type": "code",
   "execution_count": 42,
   "metadata": {},
   "outputs": [],
   "source": [
    "# 2016에 해당되는 가중치2 계산해서 데이터수정\n",
    "# 조건식 2016년에 해당되는 조건식 구성\n",
    "filt = df['구분'].str.slice(start=0, stop=4)=='2016'\n",
    "filt\n",
    "df.loc[filt,'가중치2'] = (df.loc[filt,'사망(명)']+df.loc[filt,'부상(명)'])*1.3"
   ]
  }
 ],
 "metadata": {
  "kernelspec": {
   "display_name": "Python 3",
   "language": "python",
   "name": "python3"
  },
  "language_info": {
   "codemirror_mode": {
    "name": "ipython",
    "version": 3
   },
   "file_extension": ".py",
   "mimetype": "text/x-python",
   "name": "python",
   "nbconvert_exporter": "python",
   "pygments_lexer": "ipython3",
   "version": "3.12.6"
  }
 },
 "nbformat": 4,
 "nbformat_minor": 2
}
