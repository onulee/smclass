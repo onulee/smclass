{
 "cells": [
  {
   "cell_type": "code",
   "execution_count": 8,
   "metadata": {},
   "outputs": [
    {
     "data": {
      "text/plain": [
       "count    1000.000000\n",
       "mean       72.397000\n",
       "std        16.236595\n",
       "min        45.000000\n",
       "25%        59.000000\n",
       "50%        72.000000\n",
       "75%        86.000000\n",
       "max       100.000000\n",
       "Name: 수학, dtype: float64"
      ]
     },
     "execution_count": 8,
     "metadata": {},
     "output_type": "execute_result"
    }
   ],
   "source": [
    "import pandas as pd\n",
    "df = pd.read_excel('pandas_code.xlsx')\n",
    "df.describe()\n",
    "df['수학'].describe()\n"
   ]
  },
  {
   "cell_type": "code",
   "execution_count": 16,
   "metadata": {},
   "outputs": [
    {
     "data": {
      "text/plain": [
       "18     45\n",
       "117    45\n",
       "188    45\n",
       "Name: 수학, dtype: int64"
      ]
     },
     "execution_count": 16,
     "metadata": {},
     "output_type": "execute_result"
    }
   ],
   "source": [
    "df['수학'].min() # 최소값\n",
    "df['수학'].max() # 최대값\n",
    "df['수학'].mean() # 평균\n",
    "df['수학'].std()  # 표준편차\n",
    "df['수학'].nlargest(3) # 최대값 3명 출력\n",
    "df['수학'].nsmallest(3) # 최소값 3명 출력"
   ]
  },
  {
   "cell_type": "code",
   "execution_count": 21,
   "metadata": {},
   "outputs": [
    {
     "data": {
      "text/plain": [
       "2    168\n",
       "1    184\n",
       "3    187\n",
       "4    188\n",
       "6    188\n",
       "Name: 키, dtype: int64"
      ]
     },
     "execution_count": 21,
     "metadata": {},
     "output_type": "execute_result"
    }
   ],
   "source": [
    "df = pd.read_excel('score.xlsx')\n",
    "df['키'].min()\n",
    "df['키'].max()\n",
    "df['키'].mean()\n",
    "df['키'].nlargest(3) # 최대값 기본5명, 숫자를 입력하면 숫자만큼 가져옴.\n",
    "df['키'].nsmallest() # 최소값 5명"
   ]
  }
 ],
 "metadata": {
  "kernelspec": {
   "display_name": "Python 3",
   "language": "python",
   "name": "python3"
  },
  "language_info": {
   "codemirror_mode": {
    "name": "ipython",
    "version": 3
   },
   "file_extension": ".py",
   "mimetype": "text/x-python",
   "name": "python",
   "nbconvert_exporter": "python",
   "pygments_lexer": "ipython3",
   "version": "3.12.6"
  }
 },
 "nbformat": 4,
 "nbformat_minor": 2
}
